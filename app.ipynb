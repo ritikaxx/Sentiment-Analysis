{
 "cells": [
  {
   "cell_type": "code",
   "execution_count": 1,
   "metadata": {},
   "outputs": [
    {
     "name": "stderr",
     "output_type": "stream",
     "text": [
      "[nltk_data] Downloading package stopwords to\n",
      "[nltk_data]     C:\\Users\\211ri\\AppData\\Roaming\\nltk_data...\n",
      "[nltk_data]   Unzipping corpora\\stopwords.zip.\n"
     ]
    }
   ],
   "source": [
    "#importing necessary libraries\n",
    "import numpy as np ## scientific computation\n",
    "import pandas as pd ## loading dataset file\n",
    "import matplotlib.pyplot as plt ## Visulization\n",
    "import nltk  ## Preprocessing Reviews\n",
    "nltk.download('stopwords') ##Downloading stopwords\n",
    "from nltk.corpus import stopwords ## removing all the stop words\n",
    "from nltk.stem.porter import PorterStemmer ## stemming of words\n",
    "import re  ## To use Regular expression"
   ]
  },
  {
   "cell_type": "code",
   "execution_count": null,
   "metadata": {},
   "outputs": [],
   "source": [
    "#Load the dataset in notebook\n",
    "dataset = pd.read_csv(\"Restaurant_Reviews.tsv\",delimiter = \"\\t\",quoting=3)"
   ]
  },
  {
   "cell_type": "code",
   "execution_count": null,
   "metadata": {},
   "outputs": [],
   "source": [
    "#EDA on Dataset\n",
    "print(data.shape)  ### Return the shape of data \n",
    "print(data.ndim)   ### Return the n dimensions of data\n",
    "print(data.size)   ### Return the size of data \n",
    "print(data.isna().sum())  ### Returns the sum fo all na values\n",
    "print(data.info())  ### Give concise summary of a DataFrame\n",
    "print(df.head())  ## top 5 rows of the dataframe\n",
    "print(df.tail()) ## bottom 5 rows of the dataframe"
   ]
  },
  {
   "cell_type": "code",
   "execution_count": null,
   "metadata": {},
   "outputs": [],
   "source": [
    "#visualize Liked Column\n",
    "import seaborn as sns\n",
    "sns.countplot('Liked',data=dataset)"
   ]
  },
  {
   "cell_type": "code",
   "execution_count": null,
   "metadata": {},
   "outputs": [],
   "source": [
    "#Cleaning The Dataset\n",
    "\n",
    "corpus = []\n",
    "for i in range(0,1000):   # 1000 reviews\n",
    "     review = re.sub('[^a-zA-Z]',\" \",dataset[\"Review\"][i])\n",
    "     review = review.lower()\n",
    "     review = review.split()\n",
    "     pe = PorterStemmer()\n",
    "     all_stopword = stopwords.words('english')\n",
    "     all_stopword.remove('not')\n",
    "     review = [pe.stem(word) for word in review if not word in set(all_stopword)]\n",
    "     review = \" \".join(review)\n",
    "     corpus.append(review)\n",
    "print(corpus)"
   ]
  },
  {
   "cell_type": "code",
   "execution_count": null,
   "metadata": {},
   "outputs": [],
   "source": [
    "#Creating a Bage of words model for converting review into binary form\n",
    "\n",
    "from sklearn.feature_extraction.text import CountVectorizer\n",
    "cv = CountVectorizer(max_features=1500) ##1500 columns\n",
    "X = cv.fit_transform(corpus).toarray()\n",
    "y = dataset[\"Liked\"]"
   ]
  },
  {
   "cell_type": "code",
   "execution_count": null,
   "metadata": {},
   "outputs": [],
   "source": [
    "#Dumping Counter Verctorizer object for future use\n",
    "\n",
    "import pickle\n",
    "pickle.dump(cv, open('cv.pkl', 'wb'))"
   ]
  },
  {
   "cell_type": "code",
   "execution_count": null,
   "metadata": {},
   "outputs": [],
   "source": [
    "#Modeling and Training\n",
    "\n",
    "#Splitting the data into train and validation sets using train_test_split()\n",
    "\n",
    "from sklearn.model_selection import train_test_split\n",
    "X_train,X_test,y_train,y_test = train_test_split(X,y,test_size=0.2,random_state=0)"
   ]
  },
  {
   "cell_type": "code",
   "execution_count": null,
   "metadata": {},
   "outputs": [],
   "source": [
    "#Creating a model using MultinomialNB,GaussianNB\n",
    "\n",
    "from sklearn.naive_bayes import GaussianNB,MultinomialNB\n",
    "GNB = GaussianNB()\n",
    "MNB = MultinomialNB()"
   ]
  },
  {
   "cell_type": "code",
   "execution_count": null,
   "metadata": {},
   "outputs": [],
   "source": [
    "# Fitting the X and y using both\n",
    "\n",
    "GNB.fit(X_train, y_train)\n",
    "MNB.fit(X_train, y_train)"
   ]
  },
  {
   "cell_type": "code",
   "execution_count": null,
   "metadata": {},
   "outputs": [],
   "source": [
    "# Comparing both model based on accuracy on test data\n",
    "\n",
    "print(GNB.score(X_test,y_test))   ## 0.73\n",
    "print(MNB.score(X_test,y_test))   ## 0.775"
   ]
  },
  {
   "cell_type": "code",
   "execution_count": null,
   "metadata": {},
   "outputs": [],
   "source": [
    "# Prediction\n",
    "y_pred=model.predict(X_test)\n",
    "print(np.concatenate((y_pred.reshape(len(y_pred),1), np.array(y_test).reshape(len(y_test),1)),1))"
   ]
  },
  {
   "cell_type": "code",
   "execution_count": null,
   "metadata": {},
   "outputs": [],
   "source": [
    "# Evaluating Model\n",
    "# evaluate our model using the confusion matrix and accuracy score.\n",
    "from sklearn.metrics import confusion_matrix,accuracy_score\n",
    "cm = confusion_matrix(y_test, y_pred)\n",
    "score = accuracy_score(y_test,y_pred)\n",
    "print(cm,score*100)"
   ]
  },
  {
   "cell_type": "code",
   "execution_count": null,
   "metadata": {},
   "outputs": [],
   "source": [
    "#Saving and Loading, Revaluating Model\n",
    "\n",
    "import pickle\n",
    "# Save trained model to file\n",
    "pickle.dump(cls, open(\"review.pkl\", \"wb\"))"
   ]
  },
  {
   "cell_type": "code",
   "execution_count": null,
   "metadata": {},
   "outputs": [],
   "source": [
    "# Load save model\n",
    "loaded_model = pickle.load(open(\"review.pkl\", \"rb\"))\n",
    "y_pred_new = loaded_model.predict(X_test)\n",
    "loaded_model.score(X_test,y_test)"
   ]
  },
  {
   "cell_type": "code",
   "execution_count": null,
   "metadata": {},
   "outputs": [],
   "source": [
    "# Revaluate model\n",
    "\n",
    "from sklearn.metrics import confusion_matrix,accuracy_score\n",
    "cm = confusion_matrix(y_test,y_pred_new)\n",
    "score = accuracy_score(y_test,y_pred_new)\n",
    "print(cm,score*100)"
   ]
  },
  {
   "cell_type": "code",
   "execution_count": null,
   "metadata": {},
   "outputs": [],
   "source": [
    "# Predicting Sentiment For a New Review\n",
    "\n",
    "def new_review(new_review):\n",
    "  new_review = new_review\n",
    "  new_review = re.sub('[^a-zA-Z]', ' ', new_review)\n",
    "  new_review = new_review.lower()\n",
    "  new_review = new_review.split()\n",
    "  ps = PorterStemmer()\n",
    "  all_stopwords = stopwords.words('english')\n",
    "  all_stopwords.remove('not')\n",
    "  new_review = [ps.stem(word) for word in new_review if not word in  set(all_stopwords)]\n",
    "  new_review = ' '.join(new_review)\n",
    "  new_corpus = [new_review]\n",
    "  new_X_test = cv.transform(new_corpus).toarray()\n",
    "  print(new_X_test.shape)\n",
    "  new_y_pred = loaded_model.predict(new_X_test)\n",
    "  return new_y_pred\n",
    "new_review = new_review(str(input(\"Enter new review...\")))\n",
    "if new_review[0]==1:\n",
    "   print(\"Positive\")\n",
    "else :\n",
    "   print(\"Negative\")"
   ]
  }
 ],
 "metadata": {
  "interpreter": {
   "hash": "ac59ebe37160ed0dfa835113d9b8498d9f09ceb179beaac4002f036b9467c963"
  },
  "kernelspec": {
   "display_name": "Python 3.9.2 64-bit",
   "language": "python",
   "name": "python3"
  },
  "language_info": {
   "codemirror_mode": {
    "name": "ipython",
    "version": 3
   },
   "file_extension": ".py",
   "mimetype": "text/x-python",
   "name": "python",
   "nbconvert_exporter": "python",
   "pygments_lexer": "ipython3",
   "version": "3.9.2"
  },
  "orig_nbformat": 4
 },
 "nbformat": 4,
 "nbformat_minor": 2
}
